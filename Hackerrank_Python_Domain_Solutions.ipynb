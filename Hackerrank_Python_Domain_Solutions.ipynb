{
  "nbformat": 4,
  "nbformat_minor": 0,
  "metadata": {
    "colab": {
      "provenance": []
    },
    "kernelspec": {
      "name": "python3",
      "display_name": "Python 3"
    },
    "language_info": {
      "name": "python"
    }
  },
  "cells": [
    {
      "cell_type": "code",
      "execution_count": null,
      "metadata": {
        "id": "y0EXmj7D7ymU"
      },
      "outputs": [],
      "source": [
        "\"\"\"\n",
        "Title     : List Comprehensions\n",
        "\"\"\"\n",
        "if __name__ == \"__main__\":\n",
        "    x = int(input())\n",
        "    y = int(input())\n",
        "    z = int(input())\n",
        "    n = int(input())\n",
        "    ar = [\n",
        "        [i, j, k]\n",
        "        for i in range(x + 1)\n",
        "        for j in range(y + 1)\n",
        "        for k in range(z + 1)\n",
        "        if i + j + k != n\n",
        "    ]\n",
        "    print(ar)2\n"
      ]
    },
    {
      "cell_type": "code",
      "source": [
        "\"\"\"\n",
        "Title     : Arithmetic Operators\n",
        "\"\"\"\n",
        "if __name__ == \"__main__\":\n",
        "    a = int(input())\n",
        "    b = int(input())\n",
        "    print(a + b)\n",
        "    print(a - b)\n",
        "    print(a * b)"
      ],
      "metadata": {
        "id": "53dMElXr8PyY"
      },
      "execution_count": null,
      "outputs": []
    },
    {
      "cell_type": "code",
      "source": [
        "\"\"\"\n",
        "Title     : Loops\n",
        "\"\"\"\n",
        "if __name__ == \"__main__\":\n",
        "    n = int(input())\n",
        "    for i in range(n):\n",
        "        print(i * i)"
      ],
      "metadata": {
        "id": "JpYNTIIc_BiX"
      },
      "execution_count": null,
      "outputs": []
    },
    {
      "cell_type": "code",
      "source": [
        "\"\"\"\n",
        "Title     : Print Function\n",
        "\"\"\"\n",
        "if __name__ == \"__main__\":\n",
        "    n = int(input())\n",
        "    ar = range(1, n + 1)\n",
        "    for i in ar:\n",
        "        print(i, end=\"\")"
      ],
      "metadata": {
        "id": "Yo9HLfIL_ID_"
      },
      "execution_count": null,
      "outputs": []
    },
    {
      "cell_type": "code",
      "source": [
        "\"\"\"\n",
        "Title     : Python: Division\n",
        "\"\"\"\n",
        "if __name__ == \"__main__\":\n",
        "    a = int(input())\n",
        "    b = int(input())\n",
        "    print(a // b)\n",
        "    print(a / b)"
      ],
      "metadata": {
        "id": "33_PkAfd_N0Z"
      },
      "execution_count": null,
      "outputs": []
    },
    {
      "cell_type": "code",
      "source": [
        "\"\"\"\n",
        "Title     : Python If-Else\n",
        "\"\"\"\n",
        "\n",
        "import sys\n",
        "\n",
        "n = int(input())\n",
        "if n % 2 == 1 or n in range(5, 21):\n",
        "    print(\"Weird\")\n",
        "else:\n",
        "    print(\"Not Weird\")"
      ],
      "metadata": {
        "id": "6-T3XLuF_RmO"
      },
      "execution_count": null,
      "outputs": []
    },
    {
      "cell_type": "code",
      "source": [
        "\"\"\"\n",
        "Title     : Write a function\n",
        "\"\"\"\n",
        "\n",
        "\n",
        "def is_leap(year):\n",
        "    leap = False\n",
        "    leap = (year % 400 == 0) or (year % 4 == 0 and year % 100 != 0)\n",
        "    return leap\n",
        "\n",
        "\n",
        "year = int(input())\n",
        "print(is_leap(year))"
      ],
      "metadata": {
        "id": "v66uLPb9_YOV"
      },
      "execution_count": null,
      "outputs": []
    },
    {
      "cell_type": "code",
      "source": [
        "\"\"\"\n",
        "Title     : Integers Come In All Sizes\n",
        "\"\"\"\n",
        "# Enter your code here. Read input from STDIN. Print output to STDOUT\n",
        "a = int(input())\n",
        "b = int(input())\n",
        "c = int(input())\n",
        "d = int(input())\n",
        "print(pow(a, b) + pow(c, d))"
      ],
      "metadata": {
        "id": "b12gBtGY_oXY"
      },
      "execution_count": null,
      "outputs": []
    },
    {
      "cell_type": "code",
      "source": [
        "\"\"\"\n",
        "Title     : Mod Divmod\n",
        "\"\"\"\n",
        "# Enter your code here. Read input from STDIN. Print output to STDOUT\n",
        "a = int(input())\n",
        "b = int(input())\n",
        "d = divmod(a, b)\n",
        "print(d[0])\n",
        "print(d[1])\n",
        "print(d)"
      ],
      "metadata": {
        "id": "L-cZI-fH_t9y"
      },
      "execution_count": null,
      "outputs": []
    },
    {
      "cell_type": "code",
      "source": [
        "\"\"\"\n",
        "Title     : Power - Mod Power\n",
        "\"\"\"\n",
        "# Enter your code here. Read input from STDIN. Print output to STDOUT\n",
        "a = int(input())\n",
        "b = int(input())\n",
        "c = int(input())\n",
        "print(pow(a, b))\n",
        "print(pow(a, b, c))"
      ],
      "metadata": {
        "id": "XGE1cVRQ_zZV"
      },
      "execution_count": null,
      "outputs": []
    },
    {
      "cell_type": "code",
      "source": [
        "\"\"\"\n",
        "Title     : Python-If Else\n",
        "\"\"\"\n",
        "n = int(input())\n",
        "\n",
        "if n % 2 != 0:\n",
        "    print(\"Weird\")\n",
        "elif n % 2 == 0 and 2 <= n <= 5:\n",
        "    print(\"Not Weird\")\n",
        "elif n % 2 == 0 and n > 20:\n",
        "    print(\"Not Weird\")\n",
        "else:\n",
        "    print(\"Weird\""
      ],
      "metadata": {
        "id": "9ExWVSgKCJvt"
      },
      "execution_count": null,
      "outputs": []
    },
    {
      "cell_type": "code",
      "source": [
        "\"\"\"\n",
        "Title     : Arthimetic Operator\n",
        "\"\"\"\n",
        "a=int(input())\n",
        "b=int(input())\n",
        "print(a+b)\n",
        "print(a-b)\n",
        "print(a*b)"
      ],
      "metadata": {
        "id": "WvZHV_s2CgzW"
      },
      "execution_count": null,
      "outputs": []
    },
    {
      "cell_type": "code",
      "source": [
        "\"\"\"\n",
        "Title     : Division\n",
        "\"\"\"\n",
        "a=int(input())\n",
        "b=int(input())\n",
        "print(a//b)\n",
        "print(float(a/b))"
      ],
      "metadata": {
        "id": "kpO77pWGCttl"
      },
      "execution_count": null,
      "outputs": []
    },
    {
      "cell_type": "code",
      "source": [
        "\"\"\"\n",
        "Title     : Loops\n",
        "\"\"\"\n",
        "if __name__ == '__main__':\n",
        "    n = int(input())\n",
        "    for i in range(0, n):\n",
        "        print(i ** 2)"
      ],
      "metadata": {
        "id": "KDScLlttC-g4"
      },
      "execution_count": null,
      "outputs": []
    },
    {
      "cell_type": "code",
      "source": [
        "\"\"\"\n",
        "Title     : Leap Year\n",
        "\"\"\"\n",
        "\n",
        "def is_leap(year):\n",
        "    if (year % 4 == 0 and year % 100 != 0) or (year % 400 == 0):\n",
        "        return True\n",
        "    else:\n",
        "        return False\n",
        "\n",
        "\n",
        "\n",
        "\n",
        "year = int(input())"
      ],
      "metadata": {
        "id": "lbk9N7UrDGIT"
      },
      "execution_count": null,
      "outputs": []
    },
    {
      "cell_type": "code",
      "source": [
        "\"\"\"\n",
        "Title     : Runner-Up-Score\n",
        "\"\"\"\n",
        "if __name__ == '__main__':\n",
        "    n = int(input())\n",
        "    arr = map(int, input().split())\n",
        "\n",
        "    unique_scores = list(set(arr))  # Convert the list to a set to remove duplicates\n",
        "    unique_scores.sort()  # Sort the unique scores in ascending order\n",
        "    runner_up_score = unique_scores[-2]  # Get the second-to-last element (the runner-up score)\n",
        "\n",
        "    print(runner_up_score)"
      ],
      "metadata": {
        "id": "zlLYj0I_DaRs"
      },
      "execution_count": null,
      "outputs": []
    },
    {
      "cell_type": "code",
      "source": [
        "\"\"\"\n",
        "Title     :Finding the percentage\n",
        "\"\"\"\n",
        "# Function to calculate the average marks for a student\n",
        "def calculate_average(marks):\n",
        "    return sum(marks) / len(marks)\n",
        "\n",
        "# Read the number of students' records\n",
        "n = int(input())\n",
        "\n",
        "# Create a dictionary to store student names and marks\n",
        "student_marks = {}\n",
        "\n",
        "# Parse the input and populate the dictionary\n",
        "for _ in range(n):\n",
        "    data = input().split()\n",
        "    name = data[0]\n",
        "    marks = list(map(float, data[1:]))\n",
        "    student_marks[name] = marks\n",
        "\n",
        "# Read the query_name\n",
        "query_name = input()"
      ],
      "metadata": {
        "id": "2ag0KR1FDkz-"
      },
      "execution_count": null,
      "outputs": []
    },
    {
      "cell_type": "code",
      "source": [
        "\"\"\"\n",
        "Title     : String Split and Join\n",
        "\"\"\"\n",
        "def split_and_join(line):\n",
        "    # Split the input string on space and join it with hyphens\n",
        "    words = line.split(\" \")\n",
        "    result = \"-\".join(words)\n",
        "    return result\n",
        "\n",
        "if __name__ == '__main__':"
      ],
      "metadata": {
        "id": "_1fsU03TD4qQ"
      },
      "execution_count": null,
      "outputs": []
    },
    {
      "cell_type": "code",
      "source": [
        "\"\"\"\n",
        "Title     : What's your Name\n",
        "\"\"\"\n",
        "def print_full_name(first, last):\n",
        "    full_name = f\"Hello {first} {last}! You just delved into python.\"\n",
        "    print(full_name)\n",
        "if __name__ == '__main__':"
      ],
      "metadata": {
        "id": "ehqQ6PSLEG0g"
      },
      "execution_count": null,
      "outputs": []
    }
  ]
}